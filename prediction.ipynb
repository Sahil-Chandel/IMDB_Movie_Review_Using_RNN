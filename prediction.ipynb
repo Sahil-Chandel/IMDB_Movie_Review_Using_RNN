{
 "cells": [
  {
   "cell_type": "markdown",
   "metadata": {},
   "source": [
    "# <b>Step 1 : </b>Import Libraries and Load The Model"
   ]
  },
  {
   "cell_type": "code",
   "execution_count": 43,
   "metadata": {},
   "outputs": [],
   "source": [
    "import numpy as np\n",
    "import tensorflow as tf\n",
    "from tensorflow.keras.datasets import imdb\n",
    "from tensorflow.keras.preprocessing import sequence\n",
    "from tensorflow.keras.models import load_model"
   ]
  },
  {
   "cell_type": "markdown",
   "metadata": {},
   "source": [
    "## Load The IMDB dataset word index"
   ]
  },
  {
   "cell_type": "code",
   "execution_count": 44,
   "metadata": {},
   "outputs": [],
   "source": [
    "word_index = imdb.get_word_index()\n",
    "reverse_word_index = {value : key for key, value in word_index.items()}"
   ]
  },
  {
   "cell_type": "markdown",
   "metadata": {},
   "source": [
    "## Load the Pre-Trained model with ReLU Activation"
   ]
  },
  {
   "cell_type": "code",
   "execution_count": 45,
   "metadata": {},
   "outputs": [
    {
     "name": "stdout",
     "output_type": "stream",
     "text": [
      "Model: \"sequential_1\"\n",
      "_________________________________________________________________\n",
      " Layer (type)                Output Shape              Param #   \n",
      "=================================================================\n",
      " embedding_1 (Embedding)     (None, 500, 128)          1280000   \n",
      "                                                                 \n",
      " simple_rnn_1 (SimpleRNN)    (None, 128)               32896     \n",
      "                                                                 \n",
      " dense_1 (Dense)             (None, 1)                 129       \n",
      "                                                                 \n",
      "=================================================================\n",
      "Total params: 1313025 (5.01 MB)\n",
      "Trainable params: 1313025 (5.01 MB)\n",
      "Non-trainable params: 0 (0.00 Byte)\n",
      "_________________________________________________________________\n"
     ]
    }
   ],
   "source": [
    "model = load_model('imdb.h5')\n",
    "model.summary()"
   ]
  },
  {
   "cell_type": "code",
   "execution_count": 46,
   "metadata": {},
   "outputs": [
    {
     "data": {
      "text/plain": [
       "[array([[ 0.02562217,  0.01399184,  0.05043246, ...,  0.0171877 ,\n",
       "          0.03035077,  0.03168027],\n",
       "        [-0.02524767,  0.04365016,  0.01653494, ...,  0.02803576,\n",
       "          0.04115627, -0.00961974],\n",
       "        [ 0.00990345,  0.04762088, -0.03273088, ..., -0.07017983,\n",
       "         -0.00748853, -0.03773035],\n",
       "        ...,\n",
       "        [-0.0203707 , -0.02943512, -0.05513171, ..., -0.06267185,\n",
       "         -0.01030811,  0.01025194],\n",
       "        [-0.12173786, -0.08492378,  0.08455949, ..., -0.03075904,\n",
       "         -0.023317  , -0.07392544],\n",
       "        [ 0.12634219,  0.08015692, -0.01743217, ...,  0.14225025,\n",
       "          0.07986198,  0.06309846]], dtype=float32),\n",
       " array([[-0.15940121, -0.13674663,  0.17247231, ...,  0.04384713,\n",
       "          0.01436326,  0.06065371],\n",
       "        [-0.12321571,  0.11991058,  0.00738226, ..., -0.1038621 ,\n",
       "          0.11725829,  0.04134924],\n",
       "        [-0.04936754, -0.09818166,  0.15257671, ..., -0.11816218,\n",
       "          0.10011429,  0.13210389],\n",
       "        ...,\n",
       "        [-0.11550109,  0.009293  , -0.02633674, ..., -0.01292551,\n",
       "          0.07315525, -0.10685829],\n",
       "        [ 0.08431552,  0.0898381 , -0.03449243, ..., -0.01156195,\n",
       "          0.15277378, -0.08207908],\n",
       "        [ 0.06706803, -0.1348993 ,  0.14893703, ...,  0.13874479,\n",
       "          0.17057079,  0.10444605]], dtype=float32),\n",
       " array([[-0.03746316,  0.03447166,  0.08086585, ...,  0.07098584,\n",
       "         -0.01235881,  0.02113435],\n",
       "        [ 0.02068543, -0.05227605,  0.04569726, ..., -0.01989449,\n",
       "         -0.20030463,  0.05326385],\n",
       "        [-0.0601387 ,  0.12397179,  0.05609477, ..., -0.04010621,\n",
       "          0.09478952, -0.01390679],\n",
       "        ...,\n",
       "        [-0.11328409, -0.08021151,  0.00483715, ...,  0.04569082,\n",
       "          0.17795624,  0.04088541],\n",
       "        [ 0.1008845 ,  0.03835111,  0.11956834, ..., -0.15793306,\n",
       "          0.04928896,  0.1242234 ],\n",
       "        [-0.10169975, -0.07841927,  0.11362525, ...,  0.01884316,\n",
       "          0.02956721, -0.24799399]], dtype=float32),\n",
       " array([-1.50442051e-04,  1.50178671e-02,  1.22403521e-02, -1.03127174e-02,\n",
       "        -2.90437732e-02, -1.15732215e-02,  1.00678951e-03, -1.45507455e-02,\n",
       "        -1.95845366e-02, -2.01969631e-02,  2.76184641e-04, -1.20697515e-02,\n",
       "         6.45905780e-03,  1.58745293e-02, -1.29072545e-02,  9.30960663e-03,\n",
       "        -1.00184903e-02, -4.92292456e-03, -1.36396121e-02,  7.46404147e-03,\n",
       "        -1.17461858e-02,  4.55202395e-03, -1.05499839e-02, -1.79056786e-02,\n",
       "        -2.09948011e-02,  5.45733003e-03,  3.31132160e-03, -1.57243069e-02,\n",
       "         2.28815377e-02,  4.31373203e-03,  5.46086812e-03, -3.80107365e-03,\n",
       "        -3.61552136e-03, -4.79098083e-03,  1.39559936e-02, -1.44332042e-02,\n",
       "         1.21833216e-02,  1.33202597e-02, -2.67228074e-02,  1.17836352e-02,\n",
       "        -1.27983708e-02,  1.65126640e-02, -1.37229133e-02, -2.45001074e-03,\n",
       "        -1.49458246e-02, -2.74113901e-02,  3.26806307e-03,  1.94248203e-02,\n",
       "         4.55032149e-03,  1.94814987e-02,  1.40599124e-02,  1.50792487e-02,\n",
       "        -1.28411017e-02, -2.11771578e-02,  1.85025930e-02, -1.31584909e-02,\n",
       "        -1.91482138e-02,  1.08315647e-02, -4.52404516e-03, -4.87268064e-03,\n",
       "         1.72786973e-02,  1.59435440e-02,  6.76924922e-03,  9.82508808e-03,\n",
       "        -1.64551008e-02,  1.09662237e-02, -2.07518861e-02, -1.77116971e-02,\n",
       "         4.30034054e-03,  7.87048135e-04,  1.45274606e-02,  6.01351634e-03,\n",
       "         1.97744500e-02, -8.73186800e-05, -1.82463266e-02, -1.24948984e-02,\n",
       "        -9.77497082e-03, -2.42105983e-02, -1.21967439e-02, -4.13332920e-04,\n",
       "        -1.55364666e-02,  7.71182450e-03,  1.10455956e-02,  7.67003372e-03,\n",
       "         3.85887269e-03,  8.36302340e-03,  1.44125242e-02, -8.63210578e-03,\n",
       "         1.13563957e-02,  1.33438194e-02, -1.97181199e-02, -7.32860435e-03,\n",
       "         1.24864742e-01,  1.97671261e-02, -4.20554588e-03, -1.37328329e-02,\n",
       "        -1.49924224e-02, -1.24563300e-03, -1.00587495e-02,  5.56552550e-03,\n",
       "        -1.45537164e-02,  1.76029820e-02, -1.48238393e-03,  1.27544748e-02,\n",
       "         6.30056066e-03, -1.18135195e-02,  5.87755069e-03,  7.01217540e-03,\n",
       "         1.05797099e-02,  1.38678430e-02,  8.19258217e-04, -9.61734261e-03,\n",
       "        -3.68679129e-03, -7.08778854e-04, -1.73537154e-02,  2.76221754e-03,\n",
       "         1.91010982e-02, -2.44339816e-02,  4.27359773e-04,  1.01055680e-02,\n",
       "        -6.25404250e-03,  9.39456001e-03,  3.66181252e-03, -1.76145062e-02,\n",
       "        -6.87674806e-03,  2.48808833e-03,  6.37258170e-03,  1.77514646e-02],\n",
       "       dtype=float32),\n",
       " array([[-0.03685534],\n",
       "        [-0.1517541 ],\n",
       "        [ 0.17739433],\n",
       "        [-0.12528399],\n",
       "        [ 0.08280072],\n",
       "        [ 0.2024112 ],\n",
       "        [-0.19779915],\n",
       "        [-0.20153645],\n",
       "        [ 0.28410456],\n",
       "        [-0.03829474],\n",
       "        [-0.03769426],\n",
       "        [-0.03206593],\n",
       "        [ 0.16702573],\n",
       "        [-0.09403016],\n",
       "        [-0.01290551],\n",
       "        [-0.13460094],\n",
       "        [-0.11417373],\n",
       "        [-0.14370982],\n",
       "        [-0.19481109],\n",
       "        [-0.07657579],\n",
       "        [-0.13446234],\n",
       "        [-0.00660314],\n",
       "        [-0.16448131],\n",
       "        [ 0.13606645],\n",
       "        [-0.02610461],\n",
       "        [-0.01232015],\n",
       "        [ 0.0353094 ],\n",
       "        [ 0.14539225],\n",
       "        [ 0.24614412],\n",
       "        [-0.09647495],\n",
       "        [ 0.02123073],\n",
       "        [-0.15386379],\n",
       "        [ 0.03542019],\n",
       "        [-0.02562414],\n",
       "        [-0.26007423],\n",
       "        [ 0.00609153],\n",
       "        [ 0.21571575],\n",
       "        [ 0.07160609],\n",
       "        [ 0.05252667],\n",
       "        [-0.22024138],\n",
       "        [ 0.1357581 ],\n",
       "        [ 0.12744609],\n",
       "        [-0.08582316],\n",
       "        [ 0.06775337],\n",
       "        [ 0.19635405],\n",
       "        [ 0.05268329],\n",
       "        [-0.04376017],\n",
       "        [ 0.18112028],\n",
       "        [-0.20832212],\n",
       "        [-0.02277334],\n",
       "        [ 0.15785582],\n",
       "        [-0.1725054 ],\n",
       "        [-0.15568928],\n",
       "        [ 0.05666187],\n",
       "        [ 0.15875307],\n",
       "        [ 0.33618146],\n",
       "        [-0.42748934],\n",
       "        [-0.15143709],\n",
       "        [ 0.24428917],\n",
       "        [-0.18442774],\n",
       "        [-0.09704699],\n",
       "        [-0.02450162],\n",
       "        [ 0.1728107 ],\n",
       "        [-0.09975763],\n",
       "        [-0.21230862],\n",
       "        [ 0.13224551],\n",
       "        [-0.05535894],\n",
       "        [-0.14951168],\n",
       "        [ 0.06449727],\n",
       "        [-0.04401477],\n",
       "        [-0.31076527],\n",
       "        [ 0.03782376],\n",
       "        [ 0.1405517 ],\n",
       "        [-0.17382032],\n",
       "        [ 0.18775356],\n",
       "        [ 0.15905742],\n",
       "        [ 0.35965517],\n",
       "        [-0.01203788],\n",
       "        [-0.11827227],\n",
       "        [ 0.19299126],\n",
       "        [-0.1801104 ],\n",
       "        [ 0.02767665],\n",
       "        [-0.0584796 ],\n",
       "        [ 0.03761413],\n",
       "        [-0.20573622],\n",
       "        [-0.02953757],\n",
       "        [-0.11987194],\n",
       "        [-0.14482324],\n",
       "        [ 0.10602369],\n",
       "        [ 0.02700233],\n",
       "        [-0.13025522],\n",
       "        [ 0.14741494],\n",
       "        [-0.2919281 ],\n",
       "        [-0.19361098],\n",
       "        [-0.20025572],\n",
       "        [-0.12847343],\n",
       "        [-0.17870899],\n",
       "        [ 0.21786822],\n",
       "        [ 0.01746109],\n",
       "        [-0.06514775],\n",
       "        [ 0.02443223],\n",
       "        [ 0.19331542],\n",
       "        [ 0.03981445],\n",
       "        [ 0.17591834],\n",
       "        [ 0.04739554],\n",
       "        [-0.14250074],\n",
       "        [ 0.07131302],\n",
       "        [ 0.09164413],\n",
       "        [ 0.1609042 ],\n",
       "        [-0.19239452],\n",
       "        [ 0.09681965],\n",
       "        [-0.15088256],\n",
       "        [-0.20387317],\n",
       "        [-0.06792834],\n",
       "        [-0.12313978],\n",
       "        [ 0.19375373],\n",
       "        [-0.04748571],\n",
       "        [-0.05265103],\n",
       "        [-0.08874834],\n",
       "        [ 0.23844521],\n",
       "        [-0.04547147],\n",
       "        [ 0.10864562],\n",
       "        [-0.33643624],\n",
       "        [ 0.08833259],\n",
       "        [-0.20675391],\n",
       "        [ 0.10016503],\n",
       "        [ 0.06969979],\n",
       "        [ 0.10821939]], dtype=float32),\n",
       " array([-0.3188735], dtype=float32)]"
      ]
     },
     "execution_count": 46,
     "metadata": {},
     "output_type": "execute_result"
    }
   ],
   "source": [
    "model.get_weights()"
   ]
  },
  {
   "cell_type": "markdown",
   "metadata": {},
   "source": [
    "# <b>Step 2 : </b>Helper Function"
   ]
  },
  {
   "cell_type": "code",
   "execution_count": 47,
   "metadata": {},
   "outputs": [],
   "source": [
    "# Function to decode reviews\n",
    "def decode_review(encoded_review):\n",
    "    return ' '.join([reverse_word_index.get(i - 3, '?') for i in encoded_review])\n",
    "\n",
    "# Function to preprocess user input\n",
    "def preprocess_text(text):\n",
    "    words = text.lower().split()\n",
    "    encoded_review = [word_index.get(word, 2) + 3 for word in words]\n",
    "    padded_review = sequence.pad_sequences([encoded_review], maxlen=500)\n",
    "    return padded_review"
   ]
  },
  {
   "cell_type": "code",
   "execution_count": 48,
   "metadata": {},
   "outputs": [],
   "source": [
    "### Prediction  function\n",
    "\n",
    "def predict_sentiment(review):\n",
    "    preprocessed_input=preprocess_text(review)\n",
    "\n",
    "    prediction=model.predict(preprocessed_input)\n",
    "\n",
    "    sentiment = 'Positive' if prediction[0][0] > 0.5 else 'Negative'\n",
    "    \n",
    "    return sentiment, prediction[0][0]\n",
    "\n"
   ]
  },
  {
   "cell_type": "markdown",
   "metadata": {},
   "source": [
    "# <b>Step 3 : </b>User Input and Prediction"
   ]
  },
  {
   "cell_type": "code",
   "execution_count": 49,
   "metadata": {},
   "outputs": [
    {
     "name": "stdout",
     "output_type": "stream",
     "text": [
      "WARNING:tensorflow:5 out of the last 5 calls to <function Model.make_predict_function.<locals>.predict_function at 0x000002A1160ED260> triggered tf.function retracing. Tracing is expensive and the excessive number of tracings could be due to (1) creating @tf.function repeatedly in a loop, (2) passing tensors with different shapes, (3) passing Python objects instead of tensors. For (1), please define your @tf.function outside of the loop. For (2), @tf.function has reduce_retracing=True option that can avoid unnecessary retracing. For (3), please refer to https://www.tensorflow.org/guide/function#controlling_retracing and https://www.tensorflow.org/api_docs/python/tf/function for  more details.\n",
      "1/1 [==============================] - 0s 362ms/step\n",
      "Review: This movie was fantastic! The acting was great and the plot was thrilling.\n",
      "Sentiment: Positive\n",
      "Prediction Score: 0.8514152765274048\n"
     ]
    }
   ],
   "source": [
    "# Example review for prediction\n",
    "example_review = \"This movie was fantastic! The acting was great and the plot was thrilling.\"\n",
    "\n",
    "sentiment,score=predict_sentiment(example_review)\n",
    "\n",
    "print(f'Review: {example_review}')\n",
    "print(f'Sentiment: {sentiment}')\n",
    "print(f'Prediction Score: {score}')"
   ]
  },
  {
   "cell_type": "code",
   "execution_count": null,
   "metadata": {},
   "outputs": [],
   "source": []
  },
  {
   "cell_type": "code",
   "execution_count": null,
   "metadata": {},
   "outputs": [],
   "source": []
  },
  {
   "cell_type": "code",
   "execution_count": null,
   "metadata": {},
   "outputs": [],
   "source": []
  },
  {
   "cell_type": "code",
   "execution_count": null,
   "metadata": {},
   "outputs": [],
   "source": []
  },
  {
   "cell_type": "code",
   "execution_count": null,
   "metadata": {},
   "outputs": [],
   "source": []
  },
  {
   "cell_type": "code",
   "execution_count": null,
   "metadata": {},
   "outputs": [],
   "source": []
  },
  {
   "cell_type": "code",
   "execution_count": null,
   "metadata": {},
   "outputs": [],
   "source": []
  },
  {
   "cell_type": "code",
   "execution_count": null,
   "metadata": {},
   "outputs": [],
   "source": []
  },
  {
   "cell_type": "code",
   "execution_count": null,
   "metadata": {},
   "outputs": [],
   "source": []
  },
  {
   "cell_type": "code",
   "execution_count": null,
   "metadata": {},
   "outputs": [],
   "source": []
  },
  {
   "cell_type": "code",
   "execution_count": null,
   "metadata": {},
   "outputs": [],
   "source": []
  }
 ],
 "metadata": {
  "kernelspec": {
   "display_name": "venv",
   "language": "python",
   "name": "python3"
  },
  "language_info": {
   "codemirror_mode": {
    "name": "ipython",
    "version": 3
   },
   "file_extension": ".py",
   "mimetype": "text/x-python",
   "name": "python",
   "nbconvert_exporter": "python",
   "pygments_lexer": "ipython3",
   "version": "3.11.0"
  }
 },
 "nbformat": 4,
 "nbformat_minor": 2
}
